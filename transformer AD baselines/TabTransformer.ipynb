{
  "cells": [
    {
      "cell_type": "code",
      "execution_count": 2,
      "metadata": {
        "id": "QYO-HYkgZ4T3"
      },
      "outputs": [],
      "source": [
        "import torch\n",
        "import torch.nn as nn\n",
        "import pandas as pd\n",
        "import numpy as np\n",
        "from sklearn.preprocessing import LabelEncoder\n",
        "from sklearn.metrics import accuracy_score\n",
        "from torch.utils.data import DataLoader, TensorDataset\n",
        "from torch.optim import Adam\n",
        "from sklearn.model_selection import train_test_split\n",
        "import matplotlib.pyplot as plt"
      ]
    },
    {
      "cell_type": "code",
      "source": [
        "from sklearn.metrics import accuracy_score, confusion_matrix, ConfusionMatrixDisplay\n",
        "from sklearn.metrics import precision_score, recall_score, f1_score, classification_report\n",
        "from sklearn.metrics import roc_auc_score, precision_recall_curve, f1_score"
      ],
      "metadata": {
        "id": "VdpcwaM9z4TN"
      },
      "execution_count": 3,
      "outputs": []
    },
    {
      "cell_type": "code",
      "source": [
        "device = torch.device(\"cuda\" if torch.cuda.is_available() else \"cpu\")"
      ],
      "metadata": {
        "id": "IXpOCHEN2KAU"
      },
      "execution_count": 4,
      "outputs": []
    },
    {
      "cell_type": "code",
      "execution_count": 5,
      "metadata": {
        "colab": {
          "base_uri": "https://localhost:8080/"
        },
        "id": "7lEomYw8aQbh",
        "outputId": "1f147fec-65d9-4e59-c0fe-f1c889391dbd"
      },
      "outputs": [
        {
          "output_type": "stream",
          "name": "stdout",
          "text": [
            "Mounted at /content/drive\n"
          ]
        }
      ],
      "source": [
        "from google.colab import drive\n",
        "drive.mount('/content/drive')"
      ]
    },
    {
      "cell_type": "markdown",
      "source": [
        "=====================Data preparation============================="
      ],
      "metadata": {
        "id": "5Q9MHkvXys9q"
      }
    },
    {
      "cell_type": "code",
      "execution_count": 6,
      "metadata": {
        "id": "JEb6Fm_HcbCy"
      },
      "outputs": [],
      "source": [
        "# -----------------\n",
        "# Helper: stratified sampling\n",
        "# -----------------\n",
        "def stratified_sample(df, target_col, frac=None, n=None, random_state=42):\n",
        "    \"\"\"Return stratified sample keeping target ratio\"\"\"\n",
        "    if frac is not None:\n",
        "        df_sampled = df.groupby(target_col, group_keys=False)\\\n",
        "                       .apply(lambda x: x.sample(frac=frac, random_state=random_state))\n",
        "    elif n is not None:\n",
        "        class_counts = df[target_col].value_counts()\n",
        "        total = class_counts.sum()\n",
        "        df_sampled = []\n",
        "        for c, count in class_counts.items():\n",
        "            take = int(n * (count / total))\n",
        "            df_sampled.append(df[df[target_col] == c].sample(n=take, random_state=random_state))\n",
        "        df_sampled = pd.concat(df_sampled)\n",
        "    else:\n",
        "        df_sampled = df\n",
        "    return df_sampled.sample(frac=1.0, random_state=random_state).reset_index(drop=True)"
      ]
    },
    {
      "cell_type": "code",
      "source": [
        "dataset = \"B\"\n",
        "\n",
        "if dataset == \"A\":\n",
        "  dataset_name = \"/content/drive/MyDrive/wustl_iiot_2021.csv\"\n",
        "  target = 'Target'\n",
        "  drop_cols = [\"StartTime\", \"LastTime\", \"Traffic\", \"SrcAddr\", \"DstAddr\"]\n",
        "  frac=0.1\n",
        "elif dataset == \"B\":\n",
        "  dataset_name = \"/content/drive/MyDrive/creditcard.csv\"\n",
        "  target = 'Class'\n",
        "  drop_cols = [\"Time\"]\n",
        "  frac=0.5"
      ],
      "metadata": {
        "id": "gk0zY-nQcDoX"
      },
      "execution_count": 7,
      "outputs": []
    },
    {
      "cell_type": "code",
      "execution_count": 8,
      "metadata": {
        "colab": {
          "base_uri": "https://localhost:8080/"
        },
        "id": "tqQUooD0aAPH",
        "outputId": "46e8d4f5-6ec6-46d8-c52c-23dc6bbb65bc"
      },
      "outputs": [
        {
          "output_type": "stream",
          "name": "stdout",
          "text": [
            "Original dataset shape: (284807, 30), anomaly ratio=0.1727%\n",
            "Sampled dataset shape: (142404, 30), anomaly ratio=0.1727%\n"
          ]
        },
        {
          "output_type": "stream",
          "name": "stderr",
          "text": [
            "/tmp/ipython-input-2184620091.py:8: DeprecationWarning: DataFrameGroupBy.apply operated on the grouping columns. This behavior is deprecated, and in a future version of pandas the grouping columns will be excluded from the operation. Either pass `include_groups=False` to exclude the groupings or explicitly select the grouping columns after groupby to silence this warning.\n",
            "  .apply(lambda x: x.sample(frac=frac, random_state=random_state))\n"
          ]
        },
        {
          "output_type": "stream",
          "name": "stdout",
          "text": [
            "Train shape: (75948, 30), anomaly ratio=0.1725%\n",
            "Valid shape: (37975, 30), anomaly ratio=0.1738%\n",
            "Test shape:  (28481, 30),  anomaly ratio=0.1720%\n",
            "['V1', 'V2', 'V3', 'V4', 'V5', 'V6', 'V7', 'V8', 'V9', 'V10', 'V11', 'V12', 'V13', 'V14', 'V15', 'V16', 'V17', 'V18', 'V19', 'V20', 'V21', 'V22', 'V23', 'V24', 'V25', 'V26', 'V27', 'V28', 'Amount']\n",
            "['Set']\n",
            "[]\n"
          ]
        }
      ],
      "source": [
        "df = pd.read_csv(dataset_name)\n",
        "\n",
        "df = df.drop(columns=[c for c in drop_cols if c in df.columns])\n",
        "\n",
        "\n",
        "print(f\"Original dataset shape: {df.shape}, anomaly ratio={df[target].mean():.4%}\")\n",
        "\n",
        "# Stratified sampling\n",
        "df_sampled = stratified_sample(df, target, frac=frac, random_state=0)\n",
        "print(f\"Sampled dataset shape: {df_sampled.shape}, anomaly ratio={df_sampled[target].mean():.4%}\")\n",
        "\n",
        "df_sampled = df_sampled.reset_index(drop=True)\n",
        "\n",
        "features = df_sampled.columns\n",
        "\n",
        "train_df, test_df = train_test_split(\n",
        "    df_sampled, test_size=0.2, stratify=df_sampled[target], random_state=0\n",
        ")\n",
        "\n",
        "train_df, valid_df = train_test_split(\n",
        "    train_df, test_size= 0.2 / 0.6, stratify=train_df[target], random_state=0\n",
        ")\n",
        "\n",
        "print(f\"Train shape: {train_df.shape}, anomaly ratio={train_df[target].mean():.4%}\")\n",
        "print(f\"Valid shape: {valid_df.shape}, anomaly ratio={valid_df[target].mean():.4%}\")\n",
        "print(f\"Test shape:  {test_df.shape},  anomaly ratio={test_df[target].mean():.4%}\")\n",
        "\n",
        "# Add the \"Set\" column\n",
        "train_df[\"Set\"] = \"train\"\n",
        "valid_df[\"Set\"] = \"valid\"\n",
        "test_df[\"Set\"] = \"test\"\n",
        "\n",
        "# Combine them back together\n",
        "train = pd.concat([train_df, valid_df, test_df]).reset_index(drop=True)\n",
        "\n",
        "train_indices = train[train.Set == \"train\"].index\n",
        "valid_indices = train[train.Set == \"valid\"].index\n",
        "test_indices = train[train.Set == \"test\"].index\n",
        "\n",
        "\n",
        "categorical_columns = []\n",
        "categorical_dims = {}\n",
        "\n",
        "nunique = train.nunique()\n",
        "types = train.dtypes\n",
        "\n",
        "for col in train.columns:\n",
        "    if types[col] == 'object':\n",
        "        l_enc = LabelEncoder()\n",
        "        train[col] = train[col].fillna(\"VV_likely\")\n",
        "        train[col] = l_enc.fit_transform(train[col].values)\n",
        "        categorical_columns.append(col)\n",
        "        categorical_dims[col] = len(l_enc.classes_)\n",
        "    else:\n",
        "        train.fillna(train.loc[train_indices, col].mean(), inplace=True)\n",
        "\n",
        "unused_feat = [\"Set\"]\n",
        "\n",
        "features = [col for col in df_sampled.columns if col not in unused_feat + [target]]\n",
        "\n",
        "print(features)\n",
        "\n",
        "cat_idxs = [i for i, f in enumerate(features) if f in categorical_columns]\n",
        "\n",
        "cat_dims = [categorical_dims[f] for i, f in enumerate(features) if f in categorical_columns]\n",
        "\n",
        "print(categorical_columns)\n",
        "print(cat_dims)"
      ]
    },
    {
      "cell_type": "code",
      "source": [
        "target_enc = LabelEncoder()\n",
        "train[target] = target_enc.fit_transform(train[target].values)"
      ],
      "metadata": {
        "id": "c-yxDUQHxt6F"
      },
      "execution_count": 9,
      "outputs": []
    },
    {
      "cell_type": "code",
      "execution_count": 10,
      "metadata": {
        "id": "oXFTqW5IblTA"
      },
      "outputs": [],
      "source": [
        "X_train = train[features].values[train_indices]\n",
        "y_train = train[target].values[train_indices]\n",
        "\n",
        "X_valid = train[features].values[valid_indices]\n",
        "y_valid = train[target].values[valid_indices]\n",
        "\n",
        "X_test = train[features].values[test_indices]\n",
        "y_test = train[target].values[test_indices]"
      ]
    },
    {
      "cell_type": "code",
      "execution_count": 11,
      "metadata": {
        "id": "XEizQZmXgxQm"
      },
      "outputs": [],
      "source": [
        "# Split the data into categorical and continuous parts\n",
        "X_train_categ = torch.tensor(X_train[:, cat_idxs], dtype=torch.long)\n",
        "X_train_cont = torch.tensor(np.delete(X_train, cat_idxs, axis=1), dtype=torch.float32)\n",
        "y_train_tensor = torch.tensor(y_train, dtype=torch.long)\n",
        "\n",
        "X_valid_categ = torch.tensor(X_valid[:, cat_idxs], dtype=torch.long)\n",
        "X_valid_cont = torch.tensor(np.delete(X_valid, cat_idxs, axis=1), dtype=torch.float32)\n",
        "y_valid_tensor = torch.tensor(y_valid, dtype=torch.long)\n",
        "\n",
        "X_test_categ = torch.tensor(X_test[:, cat_idxs], dtype=torch.long)\n",
        "X_test_cont = torch.tensor(np.delete(X_test, cat_idxs, axis=1), dtype=torch.float32)\n",
        "y_test_tensor = torch.tensor(y_test, dtype=torch.long)\n",
        "\n",
        "# Create DataLoaders\n",
        "train_dataset = TensorDataset(X_train_categ, X_train_cont, y_train_tensor)\n",
        "train_loader = DataLoader(train_dataset, batch_size=32, shuffle=True)\n",
        "\n",
        "valid_dataset = TensorDataset(X_valid_categ, X_valid_cont, y_valid_tensor)\n",
        "valid_loader = DataLoader(valid_dataset, batch_size=32, shuffle=False)\n",
        "\n",
        "test_dataset = TensorDataset(X_test_categ, X_test_cont, y_test_tensor)\n",
        "test_loader = DataLoader(test_dataset, batch_size=32, shuffle=False)"
      ]
    },
    {
      "cell_type": "markdown",
      "source": [
        "======================================================================"
      ],
      "metadata": {
        "id": "6t0AMSr8y2Pe"
      }
    },
    {
      "cell_type": "markdown",
      "source": [
        "==================================Model================================"
      ],
      "metadata": {
        "id": "Lbv9mESCyQNX"
      }
    },
    {
      "cell_type": "code",
      "source": [
        "import torch\n",
        "import torch.nn.functional as F\n",
        "from torch import nn, einsum\n",
        "\n",
        "from einops import rearrange"
      ],
      "metadata": {
        "id": "t9qv3vmlzpQx"
      },
      "execution_count": 12,
      "outputs": []
    },
    {
      "cell_type": "code",
      "source": [
        "def exists(val):\n",
        "    return val is not None\n",
        "\n",
        "def default(val, d):\n",
        "    return val if exists(val) else d\n",
        "\n",
        "# classes\n",
        "\n",
        "class Residual(nn.Module):\n",
        "    def __init__(self, fn):\n",
        "        super().__init__()\n",
        "        self.fn = fn\n",
        "\n",
        "    def forward(self, x, **kwargs):\n",
        "        return self.fn(x, **kwargs) + x\n",
        "\n",
        "class PreNorm(nn.Module):\n",
        "    def __init__(self, dim, fn):\n",
        "        super().__init__()\n",
        "        self.norm = nn.LayerNorm(dim)\n",
        "        self.fn = fn\n",
        "\n",
        "    def forward(self, x, **kwargs):\n",
        "        return self.fn(self.norm(x), **kwargs)\n",
        "\n",
        "# attention\n",
        "\n",
        "class GEGLU(nn.Module):\n",
        "    def forward(self, x):\n",
        "        x, gates = x.chunk(2, dim = -1)\n",
        "        return x * F.gelu(gates)\n",
        "\n",
        "class FeedForward(nn.Module):\n",
        "    def __init__(self, dim, mult = 4, dropout = 0.):\n",
        "        super().__init__()\n",
        "        self.net = nn.Sequential(\n",
        "            nn.Linear(dim, dim * mult * 2),\n",
        "            GEGLU(),\n",
        "            nn.Dropout(dropout),\n",
        "            nn.Linear(dim * mult, dim)\n",
        "        )\n",
        "\n",
        "    def forward(self, x, **kwargs):\n",
        "        return self.net(x)\n",
        "\n",
        "class Attention(nn.Module):\n",
        "    def __init__(\n",
        "        self,\n",
        "        dim,\n",
        "        heads = 8,\n",
        "        dim_head = 16,\n",
        "        dropout = 0.\n",
        "    ):\n",
        "        super().__init__()\n",
        "        inner_dim = dim_head * heads\n",
        "        self.heads = heads\n",
        "        self.scale = dim_head ** -0.5\n",
        "\n",
        "        self.to_qkv = nn.Linear(dim, inner_dim * 3, bias = False)\n",
        "        self.to_out = nn.Linear(inner_dim, dim)\n",
        "\n",
        "        self.dropout = nn.Dropout(dropout)\n",
        "\n",
        "    def forward(self, x):\n",
        "        h = self.heads\n",
        "        q, k, v = self.to_qkv(x).chunk(3, dim = -1)\n",
        "        q, k, v = map(lambda t: rearrange(t, 'b n (h d) -> b h n d', h = h), (q, k, v))\n",
        "        sim = einsum('b h i d, b h j d -> b h i j', q, k) * self.scale\n",
        "\n",
        "        attn = sim.softmax(dim = -1)\n",
        "        dropped_attn = self.dropout(attn)\n",
        "\n",
        "        out = einsum('b h i j, b h j d -> b h i d', dropped_attn, v)\n",
        "        out = rearrange(out, 'b h n d -> b n (h d)', h = h)\n",
        "        return self.to_out(out), attn\n",
        "\n",
        "# transformer\n",
        "\n",
        "class Transformer(nn.Module):\n",
        "    def __init__(self, num_tokens, dim, depth, heads, dim_head, attn_dropout, ff_dropout):\n",
        "        super().__init__()\n",
        "        self.embeds = nn.Embedding(num_tokens, dim)\n",
        "        self.layers = nn.ModuleList([])\n",
        "\n",
        "        for _ in range(depth):\n",
        "            self.layers.append(nn.ModuleList([\n",
        "                PreNorm(dim, Attention(dim, heads = heads, dim_head = dim_head, dropout = attn_dropout)),\n",
        "                PreNorm(dim, FeedForward(dim, dropout = ff_dropout)),\n",
        "            ]))\n",
        "\n",
        "    def forward(self, x, return_attn = False):\n",
        "        x = self.embeds(x)\n",
        "\n",
        "        post_softmax_attns = []\n",
        "\n",
        "        for attn, ff in self.layers:\n",
        "            attn_out, post_softmax_attn = attn(x)\n",
        "            post_softmax_attns.append(post_softmax_attn)\n",
        "\n",
        "            x = x + attn_out\n",
        "            x = ff(x) + x\n",
        "\n",
        "        if not return_attn:\n",
        "            return x\n",
        "\n",
        "        return x, torch.stack(post_softmax_attns)\n",
        "# mlp\n",
        "\n",
        "class MLP(nn.Module):\n",
        "    def __init__(self, dims, act = None):\n",
        "        super().__init__()\n",
        "        dims_pairs = list(zip(dims[:-1], dims[1:]))\n",
        "        layers = []\n",
        "        for ind, (dim_in, dim_out) in enumerate(dims_pairs):\n",
        "            is_last = ind >= (len(dims_pairs) - 1)\n",
        "            linear = nn.Linear(dim_in, dim_out)\n",
        "            layers.append(linear)\n",
        "\n",
        "            if is_last:\n",
        "                continue\n",
        "\n",
        "            act = default(act, nn.ReLU())\n",
        "            layers.append(act)\n",
        "\n",
        "        self.mlp = nn.Sequential(*layers)\n",
        "\n",
        "    def forward(self, x):\n",
        "        return self.mlp(x)\n",
        "\n",
        "# main class\n",
        "\n",
        "class TabTransformer(nn.Module):\n",
        "    def __init__(\n",
        "        self,\n",
        "        *,\n",
        "        categories,\n",
        "        num_continuous,\n",
        "        dim,\n",
        "        depth,\n",
        "        heads,\n",
        "        dim_head = 16,\n",
        "        dim_out = 1,\n",
        "        mlp_hidden_mults = (4, 2),\n",
        "        mlp_act = None,\n",
        "        num_special_tokens = 2,\n",
        "        continuous_mean_std = None,\n",
        "        attn_dropout = 0.,\n",
        "        ff_dropout = 0.\n",
        "    ):\n",
        "        super().__init__()\n",
        "        assert all(map(lambda n: n > 0, categories)), 'number of each category must be positive'\n",
        "        assert len(categories) + num_continuous > 0, 'input shape must not be null'\n",
        "\n",
        "        # categories related calculations\n",
        "\n",
        "        self.num_categories = len(categories)\n",
        "        self.num_unique_categories = sum(categories)\n",
        "\n",
        "        # create category embeddings table\n",
        "\n",
        "        self.num_special_tokens = num_special_tokens\n",
        "        total_tokens = self.num_unique_categories + num_special_tokens\n",
        "\n",
        "        # for automatically offsetting unique category ids to the correct position in the categories embedding table\n",
        "\n",
        "        if self.num_unique_categories > 0:\n",
        "            categories_offset = F.pad(torch.tensor(list(categories)), (1, 0), value = num_special_tokens)\n",
        "            categories_offset = categories_offset.cumsum(dim = -1)[:-1]\n",
        "            self.register_buffer('categories_offset', categories_offset)\n",
        "\n",
        "        # continuous\n",
        "        self.num_continuous = num_continuous\n",
        "\n",
        "        if self.num_continuous > 0:\n",
        "            if exists(continuous_mean_std):\n",
        "                assert continuous_mean_std.shape == (num_continuous, 2), f'continuous_mean_std must have a shape of ({num_continuous}, 2) where the last dimension contains the mean and variance respectively'\n",
        "            self.register_buffer('continuous_mean_std', continuous_mean_std)\n",
        "\n",
        "            self.norm = nn.LayerNorm(num_continuous)\n",
        "\n",
        "\n",
        "        # transformer\n",
        "\n",
        "        self.transformer = Transformer(\n",
        "            num_tokens = total_tokens,\n",
        "            dim = dim,\n",
        "            depth = depth,\n",
        "            heads = heads,\n",
        "            dim_head = dim_head,\n",
        "            attn_dropout = attn_dropout,\n",
        "            ff_dropout = ff_dropout\n",
        "        )\n",
        "\n",
        "        # mlp to logits\n",
        "\n",
        "        input_size = (dim * self.num_categories) + num_continuous\n",
        "        l = input_size // 8\n",
        "\n",
        "        hidden_dimensions = list(map(lambda t: l * t, mlp_hidden_mults))\n",
        "        all_dimensions = [input_size, *hidden_dimensions, dim_out]\n",
        "\n",
        "        self.mlp = MLP(all_dimensions, act = mlp_act)\n",
        "\n",
        "    def forward(self, x_categ, x_cont, return_attn = False):\n",
        "        xs = []\n",
        "\n",
        "        assert x_categ.shape[-1] == self.num_categories, f'you must pass in {self.num_categories} values for your categories input'\n",
        "\n",
        "        if self.num_unique_categories > 0:\n",
        "            x_categ += self.categories_offset\n",
        "\n",
        "            x, attns = self.transformer(x_categ, return_attn = True)\n",
        "\n",
        "            flat_categ = x.flatten(1)\n",
        "            xs.append(flat_categ)\n",
        "\n",
        "        assert x_cont.shape[1] == self.num_continuous, f'you must pass in {self.num_continuous} values for your continuous input'\n",
        "\n",
        "        if self.num_continuous > 0:\n",
        "            if exists(self.continuous_mean_std):\n",
        "                mean, std = self.continuous_mean_std.unbind(dim = -1)\n",
        "                x_cont = (x_cont - mean) / std\n",
        "\n",
        "            normed_cont = self.norm(x_cont)\n",
        "            xs.append(normed_cont)\n",
        "\n",
        "        x = torch.cat(xs, dim = -1)\n",
        "        logits =self.mlp(x)\n",
        "\n",
        "        if not return_attn:\n",
        "            return logits\n",
        "\n",
        "        return logits, attns"
      ],
      "metadata": {
        "id": "5UmJ2xwyy-AA"
      },
      "execution_count": 13,
      "outputs": []
    },
    {
      "cell_type": "markdown",
      "source": [
        "======================================================================="
      ],
      "metadata": {
        "id": "GQbua9hnyb3t"
      }
    },
    {
      "cell_type": "code",
      "source": [
        "# Define TabTransformer model\n",
        "model = TabTransformer(\n",
        "    categories=cat_dims,      # dimensions of categorical columns\n",
        "    num_continuous=len(features) - len(cat_dims), # number of continuous values\n",
        "    dim=32,\n",
        "    dim_out=2,                # binary classification\n",
        "    depth=6,\n",
        "    heads=8,\n",
        "    attn_dropout=0.1,\n",
        "    ff_dropout=0.1,\n",
        "    mlp_hidden_mults=(4, 2)\n",
        ").to(device)"
      ],
      "metadata": {
        "id": "GP2nhw8Hx73H"
      },
      "execution_count": 14,
      "outputs": []
    },
    {
      "cell_type": "code",
      "source": [
        "# 3️⃣ Optimizer and loss\n",
        "optimizer = Adam(model.parameters(), lr=1e-3)\n",
        "criterion = nn.CrossEntropyLoss()\n",
        "\n",
        "num_epochs = 10\n",
        "\n",
        "# 4️⃣ Training loop with validation\n",
        "for epoch in range(num_epochs):\n",
        "    print(f\"\\nEpoch {epoch+1}/{num_epochs}\")\n",
        "    model.train()\n",
        "    train_loss = 0.0\n",
        "\n",
        "    for x_categ, x_cont, y in train_loader:\n",
        "        x_categ = x_categ.to(device)\n",
        "        x_cont = x_cont.to(device)\n",
        "        y = y.to(device)\n",
        "\n",
        "        optimizer.zero_grad()\n",
        "        preds = model(x_categ, x_cont)\n",
        "        loss = criterion(preds, y)\n",
        "        loss.backward()\n",
        "        optimizer.step()\n",
        "        train_loss += loss.item()\n",
        "\n",
        "    avg_train_loss = train_loss / len(train_loader)\n",
        "\n",
        "    # 🔹 Validation step\n",
        "    model.eval()\n",
        "    val_loss = 0.0\n",
        "    all_val_preds = []\n",
        "    all_val_labels = []\n",
        "\n",
        "    with torch.no_grad():\n",
        "        for x_categ, x_cont, y in valid_loader:\n",
        "            x_categ = x_categ.to(device)\n",
        "            x_cont = x_cont.to(device)\n",
        "            y = y.to(device)\n",
        "\n",
        "            preds = model(x_categ, x_cont)\n",
        "            loss = criterion(preds, y)\n",
        "            val_loss += loss.item()\n",
        "\n",
        "            all_val_preds.extend(preds.argmax(dim=1).cpu().tolist())\n",
        "            all_val_labels.extend(y.cpu().tolist())\n",
        "\n",
        "    avg_val_loss = val_loss / len(valid_loader)\n",
        "    val_acc = accuracy_score(all_val_labels, all_val_preds)\n",
        "\n",
        "    print(f\"Train Loss: {avg_train_loss:.4f} | Val Loss: {avg_val_loss:.4f} | Val Acc: {val_acc:.4f}\")"
      ],
      "metadata": {
        "colab": {
          "base_uri": "https://localhost:8080/"
        },
        "id": "OquETEtzzZ-V",
        "outputId": "2b7c67d7-079e-45c8-dc79-ab24b975e78e"
      },
      "execution_count": 15,
      "outputs": [
        {
          "output_type": "stream",
          "name": "stdout",
          "text": [
            "\n",
            "Epoch 1/10\n",
            "Train Loss: 0.0305 | Val Loss: 0.0068 | Val Acc: 0.9989\n",
            "\n",
            "Epoch 2/10\n",
            "Train Loss: 0.0054 | Val Loss: 0.0064 | Val Acc: 0.9989\n",
            "\n",
            "Epoch 3/10\n",
            "Train Loss: 0.0044 | Val Loss: 0.0066 | Val Acc: 0.9989\n",
            "\n",
            "Epoch 4/10\n",
            "Train Loss: 0.0042 | Val Loss: 0.0056 | Val Acc: 0.9989\n",
            "\n",
            "Epoch 5/10\n",
            "Train Loss: 0.0038 | Val Loss: 0.0055 | Val Acc: 0.9990\n",
            "\n",
            "Epoch 6/10\n",
            "Train Loss: 0.0036 | Val Loss: 0.0059 | Val Acc: 0.9990\n",
            "\n",
            "Epoch 7/10\n",
            "Train Loss: 0.0035 | Val Loss: 0.0056 | Val Acc: 0.9990\n",
            "\n",
            "Epoch 8/10\n",
            "Train Loss: 0.0032 | Val Loss: 0.0056 | Val Acc: 0.9991\n",
            "\n",
            "Epoch 9/10\n",
            "Train Loss: 0.0031 | Val Loss: 0.0058 | Val Acc: 0.9990\n",
            "\n",
            "Epoch 10/10\n",
            "Train Loss: 0.0031 | Val Loss: 0.0059 | Val Acc: 0.9990\n"
          ]
        }
      ]
    },
    {
      "cell_type": "code",
      "source": [
        "# 5️⃣ Final test evaluation\n",
        "model.eval()\n",
        "all_test_preds = []\n",
        "\n",
        "with torch.no_grad():\n",
        "    for x_categ, x_cont, _ in test_loader:\n",
        "        x_categ = x_categ.to(device)\n",
        "        x_cont = x_cont.to(device)\n",
        "\n",
        "        preds = model(x_categ, x_cont)\n",
        "        all_test_preds.extend(preds.argmax(dim=1).cpu().tolist())\n",
        "\n",
        "y_pred = np.array(all_test_preds)\n",
        "test_acc = accuracy_score(y_true=y_test, y_pred=y_pred)\n",
        "print(f\"\\nFINAL TEST ACCURACY: {test_acc:.4f}\")\n",
        "print(classification_report(y_test, y_pred))"
      ],
      "metadata": {
        "colab": {
          "base_uri": "https://localhost:8080/"
        },
        "id": "hnQJLebo4XbY",
        "outputId": "11a181e4-4490-43fa-ab22-72f10ebb89c5"
      },
      "execution_count": 16,
      "outputs": [
        {
          "output_type": "stream",
          "name": "stdout",
          "text": [
            "\n",
            "FINAL TEST ACCURACY: 0.9991\n",
            "              precision    recall  f1-score   support\n",
            "\n",
            "           0       1.00      1.00      1.00     28432\n",
            "           1       0.76      0.71      0.74        49\n",
            "\n",
            "    accuracy                           1.00     28481\n",
            "   macro avg       0.88      0.86      0.87     28481\n",
            "weighted avg       1.00      1.00      1.00     28481\n",
            "\n"
          ]
        }
      ]
    },
    {
      "cell_type": "code",
      "source": [
        "# Confusion Matrix\n",
        "cm = confusion_matrix(y_test, y_pred)\n",
        "disp = ConfusionMatrixDisplay(confusion_matrix=cm)\n",
        "disp.plot(cmap=plt.cm.Blues)\n",
        "plt.title(\"Confusion Matrix\")\n",
        "plt.show()"
      ],
      "metadata": {
        "colab": {
          "base_uri": "https://localhost:8080/",
          "height": 472
        },
        "id": "zGZ9KqXK0AiS",
        "outputId": "ff791663-c37f-4ddd-9c3f-26468818bd78"
      },
      "execution_count": 17,
      "outputs": [
        {
          "output_type": "display_data",
          "data": {
            "text/plain": [
              "<Figure size 640x480 with 2 Axes>"
            ],
            "image/png": "[encoded data removed]"
          },
          "metadata": {}
        }
      ]
    },
    {
      "cell_type": "code",
      "source": [
        "# Accuracy, Precision, Recall, F1-Score\n",
        "accuracy = accuracy_score(y_test, y_pred)\n",
        "precision = precision_score(y_test, y_pred)\n",
        "recall = recall_score(y_test, y_pred)\n",
        "f1 = f1_score(y_test, y_pred)\n",
        "\n",
        "# Print individual scores\n",
        "print(f\"Accuracy: {accuracy:.4f}\")\n",
        "print(f\"Precision: {precision:.4f}\")\n",
        "print(f\"Recall: {recall:.4f}\")\n",
        "print(f\"F1-Score: {f1:.4f}\")\n",
        "\n",
        "# Classification report for a detailed overview\n",
        "print(classification_report(y_test, y_pred))"
      ],
      "metadata": {
        "colab": {
          "base_uri": "https://localhost:8080/"
        },
        "id": "fEfIIcCr9tf9",
        "outputId": "e0edae91-2252-4332-804b-a14eb9adbf1d"
      },
      "execution_count": 18,
      "outputs": [
        {
          "output_type": "stream",
          "name": "stdout",
          "text": [
            "Accuracy: 0.9991\n",
            "Precision: 0.7609\n",
            "Recall: 0.7143\n",
            "F1-Score: 0.7368\n",
            "              precision    recall  f1-score   support\n",
            "\n",
            "           0       1.00      1.00      1.00     28432\n",
            "           1       0.76      0.71      0.74        49\n",
            "\n",
            "    accuracy                           1.00     28481\n",
            "   macro avg       0.88      0.86      0.87     28481\n",
            "weighted avg       1.00      1.00      1.00     28481\n",
            "\n"
          ]
        }
      ]
    },
    {
      "cell_type": "code",
      "source": [],
      "metadata": {
        "id": "HCXiFEcUg_iR"
      },
      "execution_count": null,
      "outputs": []
    }
  ],
  "metadata": {
    "colab": {
      "provenance": [],
      "gpuType": "T4"
    },
    "kernelspec": {
      "display_name": "Python 3",
      "name": "python3"
    },
    "language_info": {
      "name": "python"
    },
    "accelerator": "GPU"
  },
  "nbformat": 4,
  "nbformat_minor": 0
}